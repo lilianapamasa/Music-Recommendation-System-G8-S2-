{
 "cells": [
  {
   "cell_type": "code",
   "execution_count": null,
   "id": "b068da7e-c15d-4429-84df-313ae3133f58",
   "metadata": {},
   "outputs": [],
   "source": [
    "pip install spotipy"
   ]
  },
  {
   "cell_type": "markdown",
   "id": "2280c417-606f-4c71-aa37-c09bc96b704d",
   "metadata": {},
   "source": [
    "# Brief Guide for using Spotify Web API:\n",
    "\n",
    "- Visit the Spotify Developer Dashboard (https://developer.spotify.com/dashboard) and log in with your Spotify account.\n",
    "\n",
    "- Click on the `Create App` button.\n",
    "\n",
    "- Enter App name, description, redirect URL (eg. http://localhost:3000), and click on `Save`.\n",
    "\n",
    "- Click on the `Settings` button, showing **Client ID** and **Client Secret**, which are required for API access.\n",
    "\n",
    "# Other Online reference:\n",
    "\n",
    "- https://developer.spotify.com/\n",
    "\n",
    "- https://developer.spotify.com/documentation/web-api/tutorials/client-credentials-flow"
   ]
  },
  {
   "cell_type": "code",
   "execution_count": 1,
   "id": "6725441b-63e3-402b-bf48-cea281461c00",
   "metadata": {},
   "outputs": [],
   "source": [
    "import spotipy\n",
    "from spotipy.oauth2 import SpotifyOAuth\n",
    "\n",
    "sp = spotipy.Spotify(auth_manager=SpotifyOAuth(\n",
    "    client_id=\"d97c2e84c5b1402c81425fc4024b39c4\", # replace with your client id\n",
    "    client_secret=\"92955f3620ef4eea9a0e2b6f78e0315a\", # replace with your client secret\n",
    "    redirect_uri=\"http://localhost:3000\",\n",
    "    scope=\"user-library-read playlist-modify-public\" # user-library-read allows access to the user’s library\n",
    "                                                     # playlist-modify-public allows creating public playlists (to store recommendations)\n",
    "))"
   ]
  },
  {
   "cell_type": "markdown",
   "id": "d807aa25-62e0-458f-a996-089c4d1a66ec",
   "metadata": {},
   "source": [
    "# Getting Track ID from Song Name and Artist Name"
   ]
  },
  {
   "cell_type": "code",
   "execution_count": 12,
   "id": "7a478b52-2af8-472c-bb0c-f563d732a90a",
   "metadata": {},
   "outputs": [
    {
     "name": "stdout",
     "output_type": "stream",
     "text": [
      "Track ID for 'Home' by ENHYPEN: 7yTn8YwfpEimufBe7uDtO7\n"
     ]
    }
   ],
   "source": [
    "def get_track_id(song_name, artist_name):\n",
    "    query = f\"track:{song_name} artist:{artist_name}\"\n",
    "    results = sp.search(q=query, type=\"track\", limit=1)\n",
    "    if results['tracks']['items']:\n",
    "        track_id = results['tracks']['items'][0]['id']\n",
    "        return track_id\n",
    "    else:\n",
    "        print(\"Track not found.\")\n",
    "        return None\n",
    "\n",
    "# Example usage\n",
    "song_name = \"Home\"\n",
    "artist_name = \"ENHYPEN\"\n",
    "track_id = get_track_id(song_name, artist_name)\n",
    "print(f\"Track ID for '{song_name}' by {artist_name}: {track_id}\")"
   ]
  },
  {
   "cell_type": "markdown",
   "id": "5aee9495-875b-49c3-9baf-7339e80a292e",
   "metadata": {},
   "source": [
    "# Getting Song Name and Artist Name from Track ID"
   ]
  },
  {
   "cell_type": "code",
   "execution_count": 13,
   "id": "26d3b26e-b6b9-44f2-b260-bbd3a53ae3ff",
   "metadata": {},
   "outputs": [
    {
     "name": "stdout",
     "output_type": "stream",
     "text": [
      "Song Name: Home, Artist Name: ENHYPEN\n"
     ]
    }
   ],
   "source": [
    "def get_song_info(track_id):\n",
    "    track = sp.track(track_id)\n",
    "    song_name = track['name']\n",
    "    artist_name = track['artists'][0]['name']  # First artist\n",
    "    return song_name, artist_name\n",
    "\n",
    "# Example usage\n",
    "if track_id:  # Check if a track ID was found\n",
    "    song_name, artist_name = get_song_info(track_id)\n",
    "    print(f\"Song Name: {song_name}, Artist Name: {artist_name}\")"
   ]
  },
  {
   "cell_type": "markdown",
   "id": "72e0dc20-c79e-4cd0-931d-bc28873a8fe1",
   "metadata": {},
   "source": [
    "# Check all the features"
   ]
  },
  {
   "cell_type": "code",
   "execution_count": 14,
   "id": "ba510a22-36cd-4c88-9d2c-3690fc53daff",
   "metadata": {},
   "outputs": [
    {
     "name": "stdout",
     "output_type": "stream",
     "text": [
      "{'danceability': 0.645, 'energy': 0.78, 'key': 9, 'loudness': -3.206, 'mode': 1, 'speechiness': 0.0818, 'acousticness': 0.142, 'instrumentalness': 0, 'liveness': 0.176, 'valence': 0.844, 'tempo': 112.932, 'type': 'audio_features', 'id': '7yTn8YwfpEimufBe7uDtO7', 'uri': 'spotify:track:7yTn8YwfpEimufBe7uDtO7', 'track_href': 'https://api.spotify.com/v1/tracks/7yTn8YwfpEimufBe7uDtO7', 'analysis_url': 'https://api.spotify.com/v1/audio-analysis/7yTn8YwfpEimufBe7uDtO7', 'duration_ms': 184230, 'time_signature': 4}\n"
     ]
    }
   ],
   "source": [
    "track_id = \"7yTn8YwfpEimufBe7uDtO7\"  \n",
    "features = sp.audio_features(track_id)[0]\n",
    "print(features)"
   ]
  },
  {
   "cell_type": "markdown",
   "id": "e8460c53-129a-4242-8a23-4deadb7de4e9",
   "metadata": {},
   "source": [
    "# Dataframe: features of multiple tracks"
   ]
  },
  {
   "cell_type": "code",
   "execution_count": 6,
   "id": "4d05c46d-b1b2-42a6-b640-5dc571783fff",
   "metadata": {},
   "outputs": [
    {
     "name": "stdout",
     "output_type": "stream",
     "text": [
      "   danceability  energy  key  loudness  mode  speechiness  acousticness  \\\n",
      "0         0.721   0.939    8   -11.823     1       0.0376        0.1150   \n",
      "1         0.567   0.913    8    -6.471     1       0.0736        0.0934   \n",
      "\n",
      "   instrumentalness  liveness  valence    tempo            type  \\\n",
      "0          0.000038     0.108    0.914  113.309  audio_features   \n",
      "1          0.000124     0.114    0.792   93.350  audio_features   \n",
      "\n",
      "                       id                                   uri  \\\n",
      "0  4uLU6hMCjMI75M1A2tKUQC  spotify:track:4uLU6hMCjMI75M1A2tKUQC   \n",
      "1  1cTZMwcBJT0Ka3UJPXOeeN  spotify:track:1cTZMwcBJT0Ka3UJPXOeeN   \n",
      "\n",
      "                                          track_href  \\\n",
      "0  https://api.spotify.com/v1/tracks/4uLU6hMCjMI7...   \n",
      "1  https://api.spotify.com/v1/tracks/1cTZMwcBJT0K...   \n",
      "\n",
      "                                        analysis_url  duration_ms  \\\n",
      "0  https://api.spotify.com/v1/audio-analysis/4uLU...       213573   \n",
      "1  https://api.spotify.com/v1/audio-analysis/1cTZ...       210926   \n",
      "\n",
      "   time_signature  \n",
      "0               4  \n",
      "1               4  \n"
     ]
    }
   ],
   "source": [
    "import pandas as pd\n",
    "\n",
    "track_ids = [\"7yTn8YwfpEimufBe7uDtO7\", \"1cTZMwcBJT0Ka3UJPXOeeN\"]  # Add more track IDs\n",
    "features_list = []\n",
    "\n",
    "for track_id in track_ids:\n",
    "    features = sp.audio_features(track_id)[0]\n",
    "    features_list.append(features)\n",
    "\n",
    "# Convert to DataFrame\n",
    "df_features = pd.DataFrame(features_list)\n",
    "print(df_features.head())"
   ]
  }
 ],
 "metadata": {
  "kernelspec": {
   "display_name": "Python 3 (ipykernel)",
   "language": "python",
   "name": "python3"
  },
  "language_info": {
   "codemirror_mode": {
    "name": "ipython",
    "version": 3
   },
   "file_extension": ".py",
   "mimetype": "text/x-python",
   "name": "python",
   "nbconvert_exporter": "python",
   "pygments_lexer": "ipython3",
   "version": "3.12.7"
  }
 },
 "nbformat": 4,
 "nbformat_minor": 5
}
